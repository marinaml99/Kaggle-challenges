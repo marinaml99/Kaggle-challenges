{
 "cells": [
  {
   "cell_type": "markdown",
   "id": "cad7256e",
   "metadata": {},
   "source": [
    "# Predict Future Sales - Kaggle Challenge"
   ]
  },
  {
   "cell_type": "markdown",
   "id": "dc7b8831",
   "metadata": {},
   "source": [
    "### Problem"
   ]
  },
  {
   "cell_type": "markdown",
   "id": "ef3f3a7b",
   "metadata": {},
   "source": [
    "This challenge serves as final project for the \"How to win a data science competition\" Coursera course.\n",
    "\n",
    "In this competition you will work with a challenging time-series dataset consisting of daily sales data, kindly provided by one of the largest Russian software firms - 1C Company. \n",
    "\n",
    "We are asking you to predict total sales for every product and store in the next month. By solving this competition you will be able to apply and enhance your data science skills.\n",
    "\n",
    "* Prediction: how many items of a type from each shop will be sold in a whole month"
   ]
  },
  {
   "cell_type": "markdown",
   "id": "d1502433",
   "metadata": {},
   "source": [
    "### Dataset description"
   ]
  },
  {
   "cell_type": "markdown",
   "id": "93263f4b",
   "metadata": {},
   "source": [
    "* sales_train.csv - the training set. Daily historical data from January 2013 to October 2015.\n",
    "\n",
    "* test.csv - the test set. You need to forecast the sales for these shops and products for November 2015.\n",
    "\n",
    "* sample_submission.csv - a sample submission file in the correct format.\n",
    "\n",
    "* items.csv - supplemental information about the items/products.\n",
    "\n",
    "* item_categories.csv  - supplemental information about the items categories.\n",
    "\n",
    "* shops.csv- supplemental information about the shops."
   ]
  },
  {
   "cell_type": "code",
   "execution_count": 133,
   "id": "6b29fe83",
   "metadata": {},
   "outputs": [],
   "source": [
    "import numpy as np \n",
    "import matplotlib.pyplot as plt\n",
    "from matplotlib import image\n",
    "import math\n",
    "import pandas as pd\n",
    "import tensorflow as tf\n",
    "\n",
    "#sklearn\n",
    "from sklearn import preprocessing\n",
    "from sklearn.model_selection import train_test_split\n",
    "from sklearn.metrics import accuracy_score\n",
    "from sklearn.metrics import mean_squared_error\n",
    "from sklearn.model_selection import KFold\n",
    "from sklearn.feature_extraction.text import TfidfVectorizer\n",
    "\n",
    "# keras\n",
    "from keras import optimizers\n",
    "from keras.utils.vis_utils import plot_model\n",
    "from keras.models import Sequential, Model\n",
    "from keras.layers.convolutional import Conv1D, MaxPooling1D\n",
    "from keras.layers import Dense, LSTM, RepeatVector, TimeDistributed, Flatten, Dropout"
   ]
  },
  {
   "cell_type": "code",
   "execution_count": 9,
   "id": "f58cf4cf",
   "metadata": {},
   "outputs": [],
   "source": [
    "working_dir = \"./\" "
   ]
  },
  {
   "cell_type": "code",
   "execution_count": 10,
   "id": "acefbf55",
   "metadata": {},
   "outputs": [
    {
     "data": {
      "text/html": [
       "<div>\n",
       "<style scoped>\n",
       "    .dataframe tbody tr th:only-of-type {\n",
       "        vertical-align: middle;\n",
       "    }\n",
       "\n",
       "    .dataframe tbody tr th {\n",
       "        vertical-align: top;\n",
       "    }\n",
       "\n",
       "    .dataframe thead th {\n",
       "        text-align: right;\n",
       "    }\n",
       "</style>\n",
       "<table border=\"1\" class=\"dataframe\">\n",
       "  <thead>\n",
       "    <tr style=\"text-align: right;\">\n",
       "      <th></th>\n",
       "      <th>date</th>\n",
       "      <th>date_block_num</th>\n",
       "      <th>shop_id</th>\n",
       "      <th>item_id</th>\n",
       "      <th>item_price</th>\n",
       "      <th>item_cnt_day</th>\n",
       "    </tr>\n",
       "  </thead>\n",
       "  <tbody>\n",
       "    <tr>\n",
       "      <th>0</th>\n",
       "      <td>02.01.2013</td>\n",
       "      <td>0</td>\n",
       "      <td>59</td>\n",
       "      <td>22154</td>\n",
       "      <td>999.00</td>\n",
       "      <td>1.0</td>\n",
       "    </tr>\n",
       "    <tr>\n",
       "      <th>1</th>\n",
       "      <td>03.01.2013</td>\n",
       "      <td>0</td>\n",
       "      <td>25</td>\n",
       "      <td>2552</td>\n",
       "      <td>899.00</td>\n",
       "      <td>1.0</td>\n",
       "    </tr>\n",
       "    <tr>\n",
       "      <th>2</th>\n",
       "      <td>05.01.2013</td>\n",
       "      <td>0</td>\n",
       "      <td>25</td>\n",
       "      <td>2552</td>\n",
       "      <td>899.00</td>\n",
       "      <td>-1.0</td>\n",
       "    </tr>\n",
       "    <tr>\n",
       "      <th>3</th>\n",
       "      <td>06.01.2013</td>\n",
       "      <td>0</td>\n",
       "      <td>25</td>\n",
       "      <td>2554</td>\n",
       "      <td>1709.05</td>\n",
       "      <td>1.0</td>\n",
       "    </tr>\n",
       "    <tr>\n",
       "      <th>4</th>\n",
       "      <td>15.01.2013</td>\n",
       "      <td>0</td>\n",
       "      <td>25</td>\n",
       "      <td>2555</td>\n",
       "      <td>1099.00</td>\n",
       "      <td>1.0</td>\n",
       "    </tr>\n",
       "  </tbody>\n",
       "</table>\n",
       "</div>"
      ],
      "text/plain": [
       "         date  date_block_num  shop_id  item_id  item_price  item_cnt_day\n",
       "0  02.01.2013               0       59    22154      999.00           1.0\n",
       "1  03.01.2013               0       25     2552      899.00           1.0\n",
       "2  05.01.2013               0       25     2552      899.00          -1.0\n",
       "3  06.01.2013               0       25     2554     1709.05           1.0\n",
       "4  15.01.2013               0       25     2555     1099.00           1.0"
      ]
     },
     "execution_count": 10,
     "metadata": {},
     "output_type": "execute_result"
    }
   ],
   "source": [
    "# Train dataframe\n",
    "df_train = pd.read_csv(working_dir + \"sales_train.csv\")\n",
    "n, m = df_train.shape\n",
    "\n",
    "df_train.head()"
   ]
  },
  {
   "cell_type": "code",
   "execution_count": 13,
   "id": "33582d60",
   "metadata": {},
   "outputs": [
    {
     "data": {
      "text/html": [
       "<div>\n",
       "<style scoped>\n",
       "    .dataframe tbody tr th:only-of-type {\n",
       "        vertical-align: middle;\n",
       "    }\n",
       "\n",
       "    .dataframe tbody tr th {\n",
       "        vertical-align: top;\n",
       "    }\n",
       "\n",
       "    .dataframe thead th {\n",
       "        text-align: right;\n",
       "    }\n",
       "</style>\n",
       "<table border=\"1\" class=\"dataframe\">\n",
       "  <thead>\n",
       "    <tr style=\"text-align: right;\">\n",
       "      <th></th>\n",
       "      <th>ID</th>\n",
       "      <th>shop_id</th>\n",
       "      <th>item_id</th>\n",
       "    </tr>\n",
       "  </thead>\n",
       "  <tbody>\n",
       "    <tr>\n",
       "      <th>0</th>\n",
       "      <td>0</td>\n",
       "      <td>5</td>\n",
       "      <td>5037</td>\n",
       "    </tr>\n",
       "    <tr>\n",
       "      <th>1</th>\n",
       "      <td>1</td>\n",
       "      <td>5</td>\n",
       "      <td>5320</td>\n",
       "    </tr>\n",
       "    <tr>\n",
       "      <th>2</th>\n",
       "      <td>2</td>\n",
       "      <td>5</td>\n",
       "      <td>5233</td>\n",
       "    </tr>\n",
       "    <tr>\n",
       "      <th>3</th>\n",
       "      <td>3</td>\n",
       "      <td>5</td>\n",
       "      <td>5232</td>\n",
       "    </tr>\n",
       "    <tr>\n",
       "      <th>4</th>\n",
       "      <td>4</td>\n",
       "      <td>5</td>\n",
       "      <td>5268</td>\n",
       "    </tr>\n",
       "  </tbody>\n",
       "</table>\n",
       "</div>"
      ],
      "text/plain": [
       "   ID  shop_id  item_id\n",
       "0   0        5     5037\n",
       "1   1        5     5320\n",
       "2   2        5     5233\n",
       "3   3        5     5232\n",
       "4   4        5     5268"
      ]
     },
     "execution_count": 13,
     "metadata": {},
     "output_type": "execute_result"
    }
   ],
   "source": [
    "# Test dataframe\n",
    "df_test = pd.read_csv(working_dir + \"test.csv\")\n",
    "df_test.head()"
   ]
  },
  {
   "cell_type": "code",
   "execution_count": 21,
   "id": "d7225013",
   "metadata": {},
   "outputs": [
    {
     "name": "stdout",
     "output_type": "stream",
     "text": [
      "Supplemental information about the items/products.\n",
      "                                           item_name  item_id  \\\n",
      "0          ! ВО ВЛАСТИ НАВАЖДЕНИЯ (ПЛАСТ.)         D        0   \n",
      "1  !ABBYY FineReader 12 Professional Edition Full...        1   \n",
      "2      ***В ЛУЧАХ СЛАВЫ   (UNV)                    D        2   \n",
      "3    ***ГОЛУБАЯ ВОЛНА  (Univ)                      D        3   \n",
      "4        ***КОРОБКА (СТЕКЛО)                       D        4   \n",
      "\n",
      "   item_category_id  \n",
      "0                40  \n",
      "1                76  \n",
      "2                40  \n",
      "3                40  \n",
      "4                40  \n",
      "\n",
      " Supplemental information about the items categories.\n",
      "        item_category_name  item_category_id\n",
      "0  PC - Гарнитуры/Наушники                 0\n",
      "1         Аксессуары - PS2                 1\n",
      "2         Аксессуары - PS3                 2\n",
      "3         Аксессуары - PS4                 3\n",
      "4         Аксессуары - PSP                 4\n",
      "\n",
      " Supplemental information about the shops.\n",
      "                        shop_name  shop_id\n",
      "0   !Якутск Орджоникидзе, 56 фран        0\n",
      "1   !Якутск ТЦ \"Центральный\" фран        1\n",
      "2                Адыгея ТЦ \"Мега\"        2\n",
      "3  Балашиха ТРК \"Октябрь-Киномир\"        3\n",
      "4        Волжский ТЦ \"Волга Молл\"        4\n"
     ]
    }
   ],
   "source": [
    "# Supplemental information\n",
    "\n",
    "df_items = pd.read_csv(working_dir + \"items.csv\")\n",
    "print(\"Supplemental information about the items/products.\")\n",
    "print(df_items.head())\n",
    "\n",
    "df_item_categories = pd.read_csv(working_dir + \"item_categories.csv\")\n",
    "print(\"\\n Supplemental information about the items categories.\")\n",
    "print(df_item_categories.head())\n",
    "\n",
    "df_shops = pd.read_csv(working_dir + \"shops.csv\")\n",
    "print(\"\\n Supplemental information about the shops.\")\n",
    "print(df_shops.head())"
   ]
  },
  {
   "cell_type": "markdown",
   "id": "6d23b37e",
   "metadata": {},
   "source": [
    "### Exploring the dataframes"
   ]
  },
  {
   "cell_type": "markdown",
   "id": "752867ef",
   "metadata": {},
   "source": [
    "We start by verifying some information about the data, so we know how to deal with our dataframes:"
   ]
  },
  {
   "cell_type": "code",
   "execution_count": 61,
   "id": "71e969fd",
   "metadata": {},
   "outputs": [],
   "source": [
    "def df_infos(df, shape=False):\n",
    "    print(\"----------Data Types-----------\")\n",
    "    print(df.dtypes)\n",
    "    print(\"\\n-------Missing Values----------\")\n",
    "    if df.isnull().values.any() == 0:\n",
    "        print(\"No missing values\")\n",
    "    else:\n",
    "        print(\"There are missing values\")\n",
    "    print(\"\\n-------NULL values-------------\")\n",
    "    if df.isna().values.any() == 0:\n",
    "        print(\"No null values\")\n",
    "    else:\n",
    "        print(\"There are null values\")\n",
    "    print(\"\\n-----Shape Of Data-------------\")\n",
    "    print(df.shape)\n",
    "    if shape:\n",
    "        return df.shape\n"
   ]
  },
  {
   "cell_type": "code",
   "execution_count": 64,
   "id": "8781b3a6",
   "metadata": {},
   "outputs": [
    {
     "name": "stdout",
     "output_type": "stream",
     "text": [
      "TRAIN\n",
      "----------Data Types-----------\n",
      "date               object\n",
      "date_block_num      int64\n",
      "shop_id             int64\n",
      "item_id             int64\n",
      "item_price        float64\n",
      "item_cnt_day      float64\n",
      "dtype: object\n",
      "\n",
      "-------Missing Values----------\n",
      "No missing values\n",
      "\n",
      "-------NULL values-------------\n",
      "No null values\n",
      "\n",
      "-----Shape Of Data-------------\n",
      "(2935849, 6)\n"
     ]
    }
   ],
   "source": [
    "print(\"TRAIN\")\n",
    "df_infos(df_train)"
   ]
  },
  {
   "cell_type": "markdown",
   "id": "a7c12e28",
   "metadata": {},
   "source": [
    "As the 'date' is the Train dataframe is an object, we will convert it into datatime format so we are able to manipulate it:"
   ]
  },
  {
   "cell_type": "code",
   "execution_count": 68,
   "id": "8e7249ea",
   "metadata": {},
   "outputs": [
    {
     "data": {
      "text/html": [
       "<div>\n",
       "<style scoped>\n",
       "    .dataframe tbody tr th:only-of-type {\n",
       "        vertical-align: middle;\n",
       "    }\n",
       "\n",
       "    .dataframe tbody tr th {\n",
       "        vertical-align: top;\n",
       "    }\n",
       "\n",
       "    .dataframe thead th {\n",
       "        text-align: right;\n",
       "    }\n",
       "</style>\n",
       "<table border=\"1\" class=\"dataframe\">\n",
       "  <thead>\n",
       "    <tr style=\"text-align: right;\">\n",
       "      <th></th>\n",
       "      <th>date</th>\n",
       "      <th>date_block_num</th>\n",
       "      <th>shop_id</th>\n",
       "      <th>item_id</th>\n",
       "      <th>item_price</th>\n",
       "      <th>item_cnt_day</th>\n",
       "    </tr>\n",
       "  </thead>\n",
       "  <tbody>\n",
       "    <tr>\n",
       "      <th>0</th>\n",
       "      <td>2013-01-02</td>\n",
       "      <td>0</td>\n",
       "      <td>59</td>\n",
       "      <td>22154</td>\n",
       "      <td>999.0</td>\n",
       "      <td>1.0</td>\n",
       "    </tr>\n",
       "  </tbody>\n",
       "</table>\n",
       "</div>"
      ],
      "text/plain": [
       "        date  date_block_num  shop_id  item_id  item_price  item_cnt_day\n",
       "0 2013-01-02               0       59    22154       999.0           1.0"
      ]
     },
     "execution_count": 68,
     "metadata": {},
     "output_type": "execute_result"
    }
   ],
   "source": [
    "df_train['date'] = pd.to_datetime(df_train['date'],format = '%d.%m.%Y')\n",
    "df_train.head(1)"
   ]
  },
  {
   "cell_type": "markdown",
   "id": "1a57c183",
   "metadata": {},
   "source": [
    "Verifying the test set:"
   ]
  },
  {
   "cell_type": "code",
   "execution_count": 69,
   "id": "5b1b0f51",
   "metadata": {},
   "outputs": [
    {
     "name": "stdout",
     "output_type": "stream",
     "text": [
      "\n",
      " TEST\n",
      "----------Data Types-----------\n",
      "ID         int64\n",
      "shop_id    int64\n",
      "item_id    int64\n",
      "dtype: object\n",
      "\n",
      "-------Missing Values----------\n",
      "No missing values\n",
      "\n",
      "-------NULL values-------------\n",
      "No null values\n",
      "\n",
      "-----Shape Of Data-------------\n",
      "(214200, 3)\n"
     ]
    }
   ],
   "source": [
    "print(\"\\n TEST\")\n",
    "df_infos(df_test)"
   ]
  },
  {
   "cell_type": "markdown",
   "id": "aab33a9b",
   "metadata": {},
   "source": [
    "## Preparing for NN"
   ]
  },
  {
   "cell_type": "markdown",
   "id": "249fde1d",
   "metadata": {},
   "source": [
    "We start by analising how many times each item was counted in each shop in a month. That way, we have that the counts for months 0-32 will be the data used as X, while the month 33 will be used as the labels to our prediction.\n",
    "\n",
    "We will start by creating a pivot table:"
   ]
  },
  {
   "cell_type": "code",
   "execution_count": 111,
   "id": "e3daa242",
   "metadata": {},
   "outputs": [],
   "source": [
    "dataset = df_train.pivot_table(index = ['shop_id','item_id'],\n",
    "                               values = ['item_cnt_day'],\n",
    "                               columns = ['date_block_num'],\n",
    "                               fill_value = 0,\n",
    "                               aggfunc='sum')"
   ]
  },
  {
   "cell_type": "code",
   "execution_count": 112,
   "id": "ef707631",
   "metadata": {},
   "outputs": [
    {
     "data": {
      "text/html": [
       "<div>\n",
       "<style scoped>\n",
       "    .dataframe tbody tr th:only-of-type {\n",
       "        vertical-align: middle;\n",
       "    }\n",
       "\n",
       "    .dataframe tbody tr th {\n",
       "        vertical-align: top;\n",
       "    }\n",
       "\n",
       "    .dataframe thead tr th {\n",
       "        text-align: left;\n",
       "    }\n",
       "</style>\n",
       "<table border=\"1\" class=\"dataframe\">\n",
       "  <thead>\n",
       "    <tr>\n",
       "      <th></th>\n",
       "      <th>shop_id</th>\n",
       "      <th>item_id</th>\n",
       "      <th colspan=\"19\" halign=\"left\">item_cnt_day</th>\n",
       "    </tr>\n",
       "    <tr>\n",
       "      <th>date_block_num</th>\n",
       "      <th></th>\n",
       "      <th></th>\n",
       "      <th>0</th>\n",
       "      <th>1</th>\n",
       "      <th>2</th>\n",
       "      <th>3</th>\n",
       "      <th>4</th>\n",
       "      <th>5</th>\n",
       "      <th>6</th>\n",
       "      <th>7</th>\n",
       "      <th>...</th>\n",
       "      <th>24</th>\n",
       "      <th>25</th>\n",
       "      <th>26</th>\n",
       "      <th>27</th>\n",
       "      <th>28</th>\n",
       "      <th>29</th>\n",
       "      <th>30</th>\n",
       "      <th>31</th>\n",
       "      <th>32</th>\n",
       "      <th>33</th>\n",
       "    </tr>\n",
       "  </thead>\n",
       "  <tbody>\n",
       "    <tr>\n",
       "      <th>0</th>\n",
       "      <td>0</td>\n",
       "      <td>30</td>\n",
       "      <td>0</td>\n",
       "      <td>31</td>\n",
       "      <td>0</td>\n",
       "      <td>0</td>\n",
       "      <td>0</td>\n",
       "      <td>0</td>\n",
       "      <td>0</td>\n",
       "      <td>0</td>\n",
       "      <td>...</td>\n",
       "      <td>0</td>\n",
       "      <td>0</td>\n",
       "      <td>0</td>\n",
       "      <td>0</td>\n",
       "      <td>0</td>\n",
       "      <td>0</td>\n",
       "      <td>0</td>\n",
       "      <td>0</td>\n",
       "      <td>0</td>\n",
       "      <td>0</td>\n",
       "    </tr>\n",
       "    <tr>\n",
       "      <th>1</th>\n",
       "      <td>0</td>\n",
       "      <td>31</td>\n",
       "      <td>0</td>\n",
       "      <td>11</td>\n",
       "      <td>0</td>\n",
       "      <td>0</td>\n",
       "      <td>0</td>\n",
       "      <td>0</td>\n",
       "      <td>0</td>\n",
       "      <td>0</td>\n",
       "      <td>...</td>\n",
       "      <td>0</td>\n",
       "      <td>0</td>\n",
       "      <td>0</td>\n",
       "      <td>0</td>\n",
       "      <td>0</td>\n",
       "      <td>0</td>\n",
       "      <td>0</td>\n",
       "      <td>0</td>\n",
       "      <td>0</td>\n",
       "      <td>0</td>\n",
       "    </tr>\n",
       "    <tr>\n",
       "      <th>2</th>\n",
       "      <td>0</td>\n",
       "      <td>32</td>\n",
       "      <td>6</td>\n",
       "      <td>10</td>\n",
       "      <td>0</td>\n",
       "      <td>0</td>\n",
       "      <td>0</td>\n",
       "      <td>0</td>\n",
       "      <td>0</td>\n",
       "      <td>0</td>\n",
       "      <td>...</td>\n",
       "      <td>0</td>\n",
       "      <td>0</td>\n",
       "      <td>0</td>\n",
       "      <td>0</td>\n",
       "      <td>0</td>\n",
       "      <td>0</td>\n",
       "      <td>0</td>\n",
       "      <td>0</td>\n",
       "      <td>0</td>\n",
       "      <td>0</td>\n",
       "    </tr>\n",
       "    <tr>\n",
       "      <th>3</th>\n",
       "      <td>0</td>\n",
       "      <td>33</td>\n",
       "      <td>3</td>\n",
       "      <td>3</td>\n",
       "      <td>0</td>\n",
       "      <td>0</td>\n",
       "      <td>0</td>\n",
       "      <td>0</td>\n",
       "      <td>0</td>\n",
       "      <td>0</td>\n",
       "      <td>...</td>\n",
       "      <td>0</td>\n",
       "      <td>0</td>\n",
       "      <td>0</td>\n",
       "      <td>0</td>\n",
       "      <td>0</td>\n",
       "      <td>0</td>\n",
       "      <td>0</td>\n",
       "      <td>0</td>\n",
       "      <td>0</td>\n",
       "      <td>0</td>\n",
       "    </tr>\n",
       "    <tr>\n",
       "      <th>4</th>\n",
       "      <td>0</td>\n",
       "      <td>35</td>\n",
       "      <td>1</td>\n",
       "      <td>14</td>\n",
       "      <td>0</td>\n",
       "      <td>0</td>\n",
       "      <td>0</td>\n",
       "      <td>0</td>\n",
       "      <td>0</td>\n",
       "      <td>0</td>\n",
       "      <td>...</td>\n",
       "      <td>0</td>\n",
       "      <td>0</td>\n",
       "      <td>0</td>\n",
       "      <td>0</td>\n",
       "      <td>0</td>\n",
       "      <td>0</td>\n",
       "      <td>0</td>\n",
       "      <td>0</td>\n",
       "      <td>0</td>\n",
       "      <td>0</td>\n",
       "    </tr>\n",
       "  </tbody>\n",
       "</table>\n",
       "<p>5 rows × 36 columns</p>\n",
       "</div>"
      ],
      "text/plain": [
       "               shop_id item_id item_cnt_day                        ...        \\\n",
       "date_block_num                            0   1  2  3  4  5  6  7  ... 24 25   \n",
       "0                    0      30            0  31  0  0  0  0  0  0  ...  0  0   \n",
       "1                    0      31            0  11  0  0  0  0  0  0  ...  0  0   \n",
       "2                    0      32            6  10  0  0  0  0  0  0  ...  0  0   \n",
       "3                    0      33            3   3  0  0  0  0  0  0  ...  0  0   \n",
       "4                    0      35            1  14  0  0  0  0  0  0  ...  0  0   \n",
       "\n",
       "                                        \n",
       "date_block_num 26 27 28 29 30 31 32 33  \n",
       "0               0  0  0  0  0  0  0  0  \n",
       "1               0  0  0  0  0  0  0  0  \n",
       "2               0  0  0  0  0  0  0  0  \n",
       "3               0  0  0  0  0  0  0  0  \n",
       "4               0  0  0  0  0  0  0  0  \n",
       "\n",
       "[5 rows x 36 columns]"
      ]
     },
     "execution_count": 112,
     "metadata": {},
     "output_type": "execute_result"
    }
   ],
   "source": [
    "dataset.reset_index(inplace = True)\n",
    "dataset.head(5)"
   ]
  },
  {
   "cell_type": "code",
   "execution_count": 113,
   "id": "85b4f693",
   "metadata": {},
   "outputs": [
    {
     "name": "stderr",
     "output_type": "stream",
     "text": [
      "/tmp/ipykernel_64122/3382234583.py:1: FutureWarning: merging between different levels is deprecated and will be removed in a future version. (1 levels on the left,2 on the right)\n",
      "  dataset = pd.merge(df_test, dataset,on = ['item_id','shop_id'], how = 'left')\n",
      "/home/marina/anaconda3/lib/python3.9/site-packages/pandas/core/generic.py:4150: PerformanceWarning: dropping on a non-lexsorted multi-index without a level parameter may impact performance.\n",
      "  obj = obj._drop_axis(labels, axis, level=level, errors=errors)\n"
     ]
    },
    {
     "data": {
      "text/html": [
       "<div>\n",
       "<style scoped>\n",
       "    .dataframe tbody tr th:only-of-type {\n",
       "        vertical-align: middle;\n",
       "    }\n",
       "\n",
       "    .dataframe tbody tr th {\n",
       "        vertical-align: top;\n",
       "    }\n",
       "\n",
       "    .dataframe thead th {\n",
       "        text-align: right;\n",
       "    }\n",
       "</style>\n",
       "<table border=\"1\" class=\"dataframe\">\n",
       "  <thead>\n",
       "    <tr style=\"text-align: right;\">\n",
       "      <th></th>\n",
       "      <th>ID</th>\n",
       "      <th>shop_id</th>\n",
       "      <th>item_id</th>\n",
       "      <th>(item_cnt_day, 0)</th>\n",
       "      <th>(item_cnt_day, 1)</th>\n",
       "      <th>(item_cnt_day, 2)</th>\n",
       "      <th>(item_cnt_day, 3)</th>\n",
       "      <th>(item_cnt_day, 4)</th>\n",
       "      <th>(item_cnt_day, 5)</th>\n",
       "      <th>(item_cnt_day, 6)</th>\n",
       "      <th>...</th>\n",
       "      <th>(item_cnt_day, 24)</th>\n",
       "      <th>(item_cnt_day, 25)</th>\n",
       "      <th>(item_cnt_day, 26)</th>\n",
       "      <th>(item_cnt_day, 27)</th>\n",
       "      <th>(item_cnt_day, 28)</th>\n",
       "      <th>(item_cnt_day, 29)</th>\n",
       "      <th>(item_cnt_day, 30)</th>\n",
       "      <th>(item_cnt_day, 31)</th>\n",
       "      <th>(item_cnt_day, 32)</th>\n",
       "      <th>(item_cnt_day, 33)</th>\n",
       "    </tr>\n",
       "  </thead>\n",
       "  <tbody>\n",
       "    <tr>\n",
       "      <th>0</th>\n",
       "      <td>0</td>\n",
       "      <td>5</td>\n",
       "      <td>5037</td>\n",
       "      <td>0.0</td>\n",
       "      <td>0.0</td>\n",
       "      <td>0.0</td>\n",
       "      <td>0.0</td>\n",
       "      <td>0.0</td>\n",
       "      <td>0.0</td>\n",
       "      <td>0.0</td>\n",
       "      <td>...</td>\n",
       "      <td>2.0</td>\n",
       "      <td>0.0</td>\n",
       "      <td>0.0</td>\n",
       "      <td>0.0</td>\n",
       "      <td>1.0</td>\n",
       "      <td>1.0</td>\n",
       "      <td>1.0</td>\n",
       "      <td>3.0</td>\n",
       "      <td>1.0</td>\n",
       "      <td>0.0</td>\n",
       "    </tr>\n",
       "    <tr>\n",
       "      <th>1</th>\n",
       "      <td>1</td>\n",
       "      <td>5</td>\n",
       "      <td>5320</td>\n",
       "      <td>0.0</td>\n",
       "      <td>0.0</td>\n",
       "      <td>0.0</td>\n",
       "      <td>0.0</td>\n",
       "      <td>0.0</td>\n",
       "      <td>0.0</td>\n",
       "      <td>0.0</td>\n",
       "      <td>...</td>\n",
       "      <td>0.0</td>\n",
       "      <td>0.0</td>\n",
       "      <td>0.0</td>\n",
       "      <td>0.0</td>\n",
       "      <td>0.0</td>\n",
       "      <td>0.0</td>\n",
       "      <td>0.0</td>\n",
       "      <td>0.0</td>\n",
       "      <td>0.0</td>\n",
       "      <td>0.0</td>\n",
       "    </tr>\n",
       "    <tr>\n",
       "      <th>2</th>\n",
       "      <td>2</td>\n",
       "      <td>5</td>\n",
       "      <td>5233</td>\n",
       "      <td>0.0</td>\n",
       "      <td>0.0</td>\n",
       "      <td>0.0</td>\n",
       "      <td>0.0</td>\n",
       "      <td>0.0</td>\n",
       "      <td>0.0</td>\n",
       "      <td>0.0</td>\n",
       "      <td>...</td>\n",
       "      <td>0.0</td>\n",
       "      <td>0.0</td>\n",
       "      <td>0.0</td>\n",
       "      <td>0.0</td>\n",
       "      <td>3.0</td>\n",
       "      <td>2.0</td>\n",
       "      <td>0.0</td>\n",
       "      <td>1.0</td>\n",
       "      <td>3.0</td>\n",
       "      <td>1.0</td>\n",
       "    </tr>\n",
       "    <tr>\n",
       "      <th>3</th>\n",
       "      <td>3</td>\n",
       "      <td>5</td>\n",
       "      <td>5232</td>\n",
       "      <td>0.0</td>\n",
       "      <td>0.0</td>\n",
       "      <td>0.0</td>\n",
       "      <td>0.0</td>\n",
       "      <td>0.0</td>\n",
       "      <td>0.0</td>\n",
       "      <td>0.0</td>\n",
       "      <td>...</td>\n",
       "      <td>0.0</td>\n",
       "      <td>0.0</td>\n",
       "      <td>0.0</td>\n",
       "      <td>0.0</td>\n",
       "      <td>0.0</td>\n",
       "      <td>0.0</td>\n",
       "      <td>0.0</td>\n",
       "      <td>1.0</td>\n",
       "      <td>0.0</td>\n",
       "      <td>0.0</td>\n",
       "    </tr>\n",
       "    <tr>\n",
       "      <th>4</th>\n",
       "      <td>4</td>\n",
       "      <td>5</td>\n",
       "      <td>5268</td>\n",
       "      <td>0.0</td>\n",
       "      <td>0.0</td>\n",
       "      <td>0.0</td>\n",
       "      <td>0.0</td>\n",
       "      <td>0.0</td>\n",
       "      <td>0.0</td>\n",
       "      <td>0.0</td>\n",
       "      <td>...</td>\n",
       "      <td>0.0</td>\n",
       "      <td>0.0</td>\n",
       "      <td>0.0</td>\n",
       "      <td>0.0</td>\n",
       "      <td>0.0</td>\n",
       "      <td>0.0</td>\n",
       "      <td>0.0</td>\n",
       "      <td>0.0</td>\n",
       "      <td>0.0</td>\n",
       "      <td>0.0</td>\n",
       "    </tr>\n",
       "    <tr>\n",
       "      <th>5</th>\n",
       "      <td>5</td>\n",
       "      <td>5</td>\n",
       "      <td>5039</td>\n",
       "      <td>0.0</td>\n",
       "      <td>0.0</td>\n",
       "      <td>0.0</td>\n",
       "      <td>0.0</td>\n",
       "      <td>0.0</td>\n",
       "      <td>0.0</td>\n",
       "      <td>0.0</td>\n",
       "      <td>...</td>\n",
       "      <td>1.0</td>\n",
       "      <td>0.0</td>\n",
       "      <td>0.0</td>\n",
       "      <td>0.0</td>\n",
       "      <td>3.0</td>\n",
       "      <td>0.0</td>\n",
       "      <td>0.0</td>\n",
       "      <td>0.0</td>\n",
       "      <td>1.0</td>\n",
       "      <td>1.0</td>\n",
       "    </tr>\n",
       "    <tr>\n",
       "      <th>6</th>\n",
       "      <td>6</td>\n",
       "      <td>5</td>\n",
       "      <td>5041</td>\n",
       "      <td>0.0</td>\n",
       "      <td>0.0</td>\n",
       "      <td>0.0</td>\n",
       "      <td>0.0</td>\n",
       "      <td>0.0</td>\n",
       "      <td>0.0</td>\n",
       "      <td>0.0</td>\n",
       "      <td>...</td>\n",
       "      <td>0.0</td>\n",
       "      <td>0.0</td>\n",
       "      <td>0.0</td>\n",
       "      <td>0.0</td>\n",
       "      <td>0.0</td>\n",
       "      <td>0.0</td>\n",
       "      <td>0.0</td>\n",
       "      <td>0.0</td>\n",
       "      <td>3.0</td>\n",
       "      <td>2.0</td>\n",
       "    </tr>\n",
       "    <tr>\n",
       "      <th>7</th>\n",
       "      <td>7</td>\n",
       "      <td>5</td>\n",
       "      <td>5046</td>\n",
       "      <td>0.0</td>\n",
       "      <td>0.0</td>\n",
       "      <td>0.0</td>\n",
       "      <td>0.0</td>\n",
       "      <td>0.0</td>\n",
       "      <td>0.0</td>\n",
       "      <td>0.0</td>\n",
       "      <td>...</td>\n",
       "      <td>0.0</td>\n",
       "      <td>0.0</td>\n",
       "      <td>1.0</td>\n",
       "      <td>0.0</td>\n",
       "      <td>0.0</td>\n",
       "      <td>1.0</td>\n",
       "      <td>0.0</td>\n",
       "      <td>0.0</td>\n",
       "      <td>0.0</td>\n",
       "      <td>0.0</td>\n",
       "    </tr>\n",
       "    <tr>\n",
       "      <th>8</th>\n",
       "      <td>8</td>\n",
       "      <td>5</td>\n",
       "      <td>5319</td>\n",
       "      <td>0.0</td>\n",
       "      <td>0.0</td>\n",
       "      <td>0.0</td>\n",
       "      <td>0.0</td>\n",
       "      <td>0.0</td>\n",
       "      <td>0.0</td>\n",
       "      <td>0.0</td>\n",
       "      <td>...</td>\n",
       "      <td>9.0</td>\n",
       "      <td>2.0</td>\n",
       "      <td>3.0</td>\n",
       "      <td>2.0</td>\n",
       "      <td>2.0</td>\n",
       "      <td>4.0</td>\n",
       "      <td>3.0</td>\n",
       "      <td>2.0</td>\n",
       "      <td>3.0</td>\n",
       "      <td>0.0</td>\n",
       "    </tr>\n",
       "    <tr>\n",
       "      <th>9</th>\n",
       "      <td>9</td>\n",
       "      <td>5</td>\n",
       "      <td>5003</td>\n",
       "      <td>0.0</td>\n",
       "      <td>0.0</td>\n",
       "      <td>0.0</td>\n",
       "      <td>0.0</td>\n",
       "      <td>0.0</td>\n",
       "      <td>0.0</td>\n",
       "      <td>0.0</td>\n",
       "      <td>...</td>\n",
       "      <td>0.0</td>\n",
       "      <td>0.0</td>\n",
       "      <td>0.0</td>\n",
       "      <td>0.0</td>\n",
       "      <td>0.0</td>\n",
       "      <td>0.0</td>\n",
       "      <td>0.0</td>\n",
       "      <td>0.0</td>\n",
       "      <td>0.0</td>\n",
       "      <td>0.0</td>\n",
       "    </tr>\n",
       "  </tbody>\n",
       "</table>\n",
       "<p>10 rows × 37 columns</p>\n",
       "</div>"
      ],
      "text/plain": [
       "   ID  shop_id  item_id  (item_cnt_day, 0)  (item_cnt_day, 1)  \\\n",
       "0   0        5     5037                0.0                0.0   \n",
       "1   1        5     5320                0.0                0.0   \n",
       "2   2        5     5233                0.0                0.0   \n",
       "3   3        5     5232                0.0                0.0   \n",
       "4   4        5     5268                0.0                0.0   \n",
       "5   5        5     5039                0.0                0.0   \n",
       "6   6        5     5041                0.0                0.0   \n",
       "7   7        5     5046                0.0                0.0   \n",
       "8   8        5     5319                0.0                0.0   \n",
       "9   9        5     5003                0.0                0.0   \n",
       "\n",
       "   (item_cnt_day, 2)  (item_cnt_day, 3)  (item_cnt_day, 4)  (item_cnt_day, 5)  \\\n",
       "0                0.0                0.0                0.0                0.0   \n",
       "1                0.0                0.0                0.0                0.0   \n",
       "2                0.0                0.0                0.0                0.0   \n",
       "3                0.0                0.0                0.0                0.0   \n",
       "4                0.0                0.0                0.0                0.0   \n",
       "5                0.0                0.0                0.0                0.0   \n",
       "6                0.0                0.0                0.0                0.0   \n",
       "7                0.0                0.0                0.0                0.0   \n",
       "8                0.0                0.0                0.0                0.0   \n",
       "9                0.0                0.0                0.0                0.0   \n",
       "\n",
       "   (item_cnt_day, 6)  ...  (item_cnt_day, 24)  (item_cnt_day, 25)  \\\n",
       "0                0.0  ...                 2.0                 0.0   \n",
       "1                0.0  ...                 0.0                 0.0   \n",
       "2                0.0  ...                 0.0                 0.0   \n",
       "3                0.0  ...                 0.0                 0.0   \n",
       "4                0.0  ...                 0.0                 0.0   \n",
       "5                0.0  ...                 1.0                 0.0   \n",
       "6                0.0  ...                 0.0                 0.0   \n",
       "7                0.0  ...                 0.0                 0.0   \n",
       "8                0.0  ...                 9.0                 2.0   \n",
       "9                0.0  ...                 0.0                 0.0   \n",
       "\n",
       "   (item_cnt_day, 26)  (item_cnt_day, 27)  (item_cnt_day, 28)  \\\n",
       "0                 0.0                 0.0                 1.0   \n",
       "1                 0.0                 0.0                 0.0   \n",
       "2                 0.0                 0.0                 3.0   \n",
       "3                 0.0                 0.0                 0.0   \n",
       "4                 0.0                 0.0                 0.0   \n",
       "5                 0.0                 0.0                 3.0   \n",
       "6                 0.0                 0.0                 0.0   \n",
       "7                 1.0                 0.0                 0.0   \n",
       "8                 3.0                 2.0                 2.0   \n",
       "9                 0.0                 0.0                 0.0   \n",
       "\n",
       "   (item_cnt_day, 29)  (item_cnt_day, 30)  (item_cnt_day, 31)  \\\n",
       "0                 1.0                 1.0                 3.0   \n",
       "1                 0.0                 0.0                 0.0   \n",
       "2                 2.0                 0.0                 1.0   \n",
       "3                 0.0                 0.0                 1.0   \n",
       "4                 0.0                 0.0                 0.0   \n",
       "5                 0.0                 0.0                 0.0   \n",
       "6                 0.0                 0.0                 0.0   \n",
       "7                 1.0                 0.0                 0.0   \n",
       "8                 4.0                 3.0                 2.0   \n",
       "9                 0.0                 0.0                 0.0   \n",
       "\n",
       "   (item_cnt_day, 32)  (item_cnt_day, 33)  \n",
       "0                 1.0                 0.0  \n",
       "1                 0.0                 0.0  \n",
       "2                 3.0                 1.0  \n",
       "3                 0.0                 0.0  \n",
       "4                 0.0                 0.0  \n",
       "5                 1.0                 1.0  \n",
       "6                 3.0                 2.0  \n",
       "7                 0.0                 0.0  \n",
       "8                 3.0                 0.0  \n",
       "9                 0.0                 0.0  \n",
       "\n",
       "[10 rows x 37 columns]"
      ]
     },
     "execution_count": 113,
     "metadata": {},
     "output_type": "execute_result"
    }
   ],
   "source": [
    "dataset = pd.merge(df_test, dataset,on = ['item_id','shop_id'], how = 'left')\n",
    "dataset.fillna(0,inplace = True)\n",
    "\n",
    "dataset.head(10)"
   ]
  },
  {
   "cell_type": "code",
   "execution_count": 114,
   "id": "e7551c48",
   "metadata": {},
   "outputs": [],
   "source": [
    "dataset.drop(['ID', 'shop_id','item_id'],inplace = True, axis = 1)"
   ]
  },
  {
   "cell_type": "markdown",
   "id": "99d71ea3",
   "metadata": {},
   "source": [
    "As already stated, the X will then be all the columns exepct the last one, which will be our y (the labels that we cant to predict)."
   ]
  },
  {
   "cell_type": "code",
   "execution_count": 119,
   "id": "9ee68577",
   "metadata": {},
   "outputs": [],
   "source": [
    "# X we will keep all columns execpt the last one \n",
    "X_train = np.expand_dims(dataset.values[:,:-1],axis = 2)\n",
    "y_train = dataset.values[:,-1:]"
   ]
  },
  {
   "cell_type": "code",
   "execution_count": 124,
   "id": "c9837fbc",
   "metadata": {},
   "outputs": [],
   "source": [
    "# For test we keep all the columns execpt the first one\n",
    "X_test = np.expand_dims(dataset.values[:,1:],axis = 2)"
   ]
  },
  {
   "cell_type": "markdown",
   "id": "fabd4718",
   "metadata": {},
   "source": [
    "### MLP approach"
   ]
  },
  {
   "cell_type": "markdown",
   "id": "1047b34a",
   "metadata": {},
   "source": [
    "With all the data in our hands, we can finally create and train our model:"
   ]
  },
  {
   "cell_type": "code",
   "execution_count": 135,
   "id": "f79602b6",
   "metadata": {},
   "outputs": [
    {
     "name": "stdout",
     "output_type": "stream",
     "text": [
      "Model: \"sequential_3\"\n",
      "_________________________________________________________________\n",
      " Layer (type)                Output Shape              Param #   \n",
      "=================================================================\n",
      " dense_4 (Dense)             (None, 100)               3400      \n",
      "                                                                 \n",
      " dropout_3 (Dropout)         (None, 100)               0         \n",
      "                                                                 \n",
      " dense_5 (Dense)             (None, 1)                 101       \n",
      "                                                                 \n",
      "=================================================================\n",
      "Total params: 3,501\n",
      "Trainable params: 3,501\n",
      "Non-trainable params: 0\n",
      "_________________________________________________________________\n"
     ]
    }
   ],
   "source": [
    "adam = tf.keras.optimizers.Adam(learning_rate)\n",
    "\n",
    "model_mlp = Sequential()\n",
    "model_mlp.add(Dense(100, activation='relu', input_dim=X_train.shape[1]))\n",
    "model_mlp.add(Dropout(0.4))\n",
    "model_mlp.add(Dense(1))\n",
    "\n",
    "model_mlp.summary()"
   ]
  },
  {
   "cell_type": "code",
   "execution_count": 136,
   "id": "2caa1a26",
   "metadata": {},
   "outputs": [],
   "source": [
    "model_mlp.compile(loss='mse', optimizer=adam, metrics = ['mean_squared_error'])"
   ]
  },
  {
   "cell_type": "code",
   "execution_count": 137,
   "id": "90322042",
   "metadata": {},
   "outputs": [
    {
     "name": "stdout",
     "output_type": "stream",
     "text": [
      "Epoch 1/10\n",
      "53/53 [==============================] - 0s 3ms/step - loss: 32.1833 - mean_squared_error: 32.1833\n",
      "Epoch 2/10\n",
      "53/53 [==============================] - 0s 3ms/step - loss: 26.1093 - mean_squared_error: 26.1093\n",
      "Epoch 3/10\n",
      "53/53 [==============================] - 0s 4ms/step - loss: 27.9914 - mean_squared_error: 27.9914\n",
      "Epoch 4/10\n",
      "53/53 [==============================] - 0s 4ms/step - loss: 24.6949 - mean_squared_error: 24.6949\n",
      "Epoch 5/10\n",
      "53/53 [==============================] - 0s 4ms/step - loss: 22.1824 - mean_squared_error: 22.1824\n",
      "Epoch 6/10\n",
      "53/53 [==============================] - 0s 3ms/step - loss: 21.7592 - mean_squared_error: 21.7592\n",
      "Epoch 7/10\n",
      "53/53 [==============================] - 0s 3ms/step - loss: 20.8854 - mean_squared_error: 20.8854\n",
      "Epoch 8/10\n",
      "53/53 [==============================] - 0s 3ms/step - loss: 21.6180 - mean_squared_error: 21.6180\n",
      "Epoch 9/10\n",
      "53/53 [==============================] - 0s 3ms/step - loss: 19.3571 - mean_squared_error: 19.3571\n",
      "Epoch 10/10\n",
      "53/53 [==============================] - 0s 3ms/step - loss: 17.2395 - mean_squared_error: 17.2395\n"
     ]
    }
   ],
   "source": [
    "history_mlp = model_mlp.fit(X_train,y_train,batch_size = 4096,epochs = 10)"
   ]
  },
  {
   "cell_type": "markdown",
   "id": "9b4f97de",
   "metadata": {},
   "source": [
    "That step being compleated, we can then analyse the evolution of our loss in the training dataset:"
   ]
  },
  {
   "cell_type": "code",
   "execution_count": 138,
   "id": "c3563e0b",
   "metadata": {},
   "outputs": [
    {
     "data": {
      "text/plain": [
       "<matplotlib.legend.Legend at 0x7f7c3f2a7610>"
      ]
     },
     "execution_count": 138,
     "metadata": {},
     "output_type": "execute_result"
    },
    {
     "data": {
      "image/png": "[encoded data removed]",
      "text/plain": [
       "<Figure size 432x288 with 1 Axes>"
      ]
     },
     "metadata": {
      "needs_background": "light"
     },
     "output_type": "display_data"
    }
   ],
   "source": [
    "plt.plot(history_mlp.history['loss'], color='b', label=\"Training loss\")\n",
    "plt.legend(loc='best', shadow=True)"
   ]
  },
  {
   "cell_type": "markdown",
   "id": "60334980",
   "metadata": {},
   "source": [
    "### RNN/LSTM approach"
   ]
  },
  {
   "cell_type": "code",
   "execution_count": 126,
   "id": "29da50af",
   "metadata": {},
   "outputs": [
    {
     "name": "stdout",
     "output_type": "stream",
     "text": [
      "Model: \"sequential_1\"\n",
      "_________________________________________________________________\n",
      " Layer (type)                Output Shape              Param #   \n",
      "=================================================================\n",
      " lstm_1 (LSTM)               (None, 64)                16896     \n",
      "                                                                 \n",
      " dropout_1 (Dropout)         (None, 64)                0         \n",
      "                                                                 \n",
      " dense_1 (Dense)             (None, 1)                 65        \n",
      "                                                                 \n",
      "=================================================================\n",
      "Total params: 16,961\n",
      "Trainable params: 16,961\n",
      "Non-trainable params: 0\n",
      "_________________________________________________________________\n"
     ]
    }
   ],
   "source": [
    "model_lstm = Sequential()\n",
    "model_lstm.add(LSTM(64, input_shape = (X_train.shape[1], X_train.shape[2])))\n",
    "model_lstm.add(Dropout(0.4))\n",
    "model_lstm.add(Dense(1))\n",
    "\n",
    "model_lstm.summary()"
   ]
  },
  {
   "cell_type": "code",
   "execution_count": 127,
   "id": "fab507b0",
   "metadata": {},
   "outputs": [],
   "source": [
    "model_lstm.compile(loss = 'mse',optimizer = 'adam', metrics = ['mean_squared_error'])"
   ]
  },
  {
   "cell_type": "code",
   "execution_count": 128,
   "id": "78ffe1a5",
   "metadata": {},
   "outputs": [
    {
     "name": "stdout",
     "output_type": "stream",
     "text": [
      "Epoch 1/10\n",
      "53/53 [==============================] - 13s 236ms/step - loss: 30.6105 - mean_squared_error: 30.6105\n",
      "Epoch 2/10\n",
      "53/53 [==============================] - 13s 246ms/step - loss: 30.3613 - mean_squared_error: 30.3613\n",
      "Epoch 3/10\n",
      "53/53 [==============================] - 14s 267ms/step - loss: 30.0623 - mean_squared_error: 30.0623\n",
      "Epoch 4/10\n",
      "53/53 [==============================] - 14s 271ms/step - loss: 30.0163 - mean_squared_error: 30.0163\n",
      "Epoch 5/10\n",
      "53/53 [==============================] - 14s 263ms/step - loss: 29.8564 - mean_squared_error: 29.8564\n",
      "Epoch 6/10\n",
      "53/53 [==============================] - 15s 275ms/step - loss: 29.7857 - mean_squared_error: 29.7857\n",
      "Epoch 7/10\n",
      "53/53 [==============================] - 13s 252ms/step - loss: 29.7232 - mean_squared_error: 29.7232\n",
      "Epoch 8/10\n",
      "53/53 [==============================] - 15s 279ms/step - loss: 29.7237 - mean_squared_error: 29.7237\n",
      "Epoch 9/10\n",
      "53/53 [==============================] - 14s 268ms/step - loss: 29.5939 - mean_squared_error: 29.5939\n",
      "Epoch 10/10\n",
      "53/53 [==============================] - 14s 256ms/step - loss: 29.5427 - mean_squared_error: 29.5427\n"
     ]
    }
   ],
   "source": [
    "history_lstm = model_lstm.fit(X_train,y_train,batch_size = 4096,epochs = 10)"
   ]
  },
  {
   "cell_type": "markdown",
   "id": "f8e78457",
   "metadata": {},
   "source": [
    "### CNN approach"
   ]
  },
  {
   "cell_type": "code",
   "execution_count": 141,
   "id": "ff8936b6",
   "metadata": {},
   "outputs": [
    {
     "name": "stdout",
     "output_type": "stream",
     "text": [
      "Model: \"sequential_5\"\n",
      "_________________________________________________________________\n",
      " Layer (type)                Output Shape              Param #   \n",
      "=================================================================\n",
      " conv1d_1 (Conv1D)           (None, 32, 64)            192       \n",
      "                                                                 \n",
      " max_pooling1d_1 (MaxPooling  (None, 16, 64)           0         \n",
      " 1D)                                                             \n",
      "                                                                 \n",
      " flatten_1 (Flatten)         (None, 1024)              0         \n",
      "                                                                 \n",
      " dense_8 (Dense)             (None, 50)                51250     \n",
      "                                                                 \n",
      " dense_9 (Dense)             (None, 1)                 51        \n",
      "                                                                 \n",
      "=================================================================\n",
      "Total params: 51,493\n",
      "Trainable params: 51,493\n",
      "Non-trainable params: 0\n",
      "_________________________________________________________________\n"
     ]
    }
   ],
   "source": [
    "model_cnn = Sequential()\n",
    "model_cnn.add(Conv1D(filters=64, kernel_size=2, activation='relu', input_shape=(X_train.shape[1], X_train.shape[2])))\n",
    "model_cnn.add(MaxPooling1D(pool_size=2))\n",
    "model_cnn.add(Flatten())\n",
    "model_cnn.add(Dense(50, activation='relu'))\n",
    "model_cnn.add(Dense(1))\n",
    "\n",
    "model_cnn.summary()"
   ]
  },
  {
   "cell_type": "code",
   "execution_count": 142,
   "id": "544bea49",
   "metadata": {},
   "outputs": [],
   "source": [
    "model_cnn.compile(loss='mse', optimizer=adam)"
   ]
  },
  {
   "cell_type": "code",
   "execution_count": 145,
   "id": "ffcbe080",
   "metadata": {},
   "outputs": [
    {
     "name": "stdout",
     "output_type": "stream",
     "text": [
      "Epoch 1/10\n",
      "6694/6694 - 6s - loss: 24.2476 - 6s/epoch - 948us/step\n",
      "Epoch 2/10\n",
      "6694/6694 - 6s - loss: 25.1013 - 6s/epoch - 941us/step\n",
      "Epoch 3/10\n",
      "6694/6694 - 7s - loss: 23.5931 - 7s/epoch - 1ms/step\n",
      "Epoch 4/10\n",
      "6694/6694 - 7s - loss: 25.0661 - 7s/epoch - 1ms/step\n",
      "Epoch 5/10\n",
      "6694/6694 - 7s - loss: 20.4200 - 7s/epoch - 1ms/step\n",
      "Epoch 6/10\n",
      "6694/6694 - 8s - loss: 19.4496 - 8s/epoch - 1ms/step\n",
      "Epoch 7/10\n",
      "6694/6694 - 9s - loss: 28.7757 - 9s/epoch - 1ms/step\n",
      "Epoch 8/10\n",
      "6694/6694 - 8s - loss: 18.4452 - 8s/epoch - 1ms/step\n",
      "Epoch 9/10\n",
      "6694/6694 - 8s - loss: 24.4035 - 8s/epoch - 1ms/step\n",
      "Epoch 10/10\n",
      "6694/6694 - 7s - loss: 22.2765 - 7s/epoch - 1ms/step\n"
     ]
    }
   ],
   "source": [
    "cnn_history = model_cnn.fit(X_train, y_train, epochs=10, verbose=2)"
   ]
  },
  {
   "cell_type": "code",
   "execution_count": 146,
   "id": "f88f0c47",
   "metadata": {},
   "outputs": [
    {
     "data": {
      "text/plain": [
       "<matplotlib.legend.Legend at 0x7f7c3eac2ee0>"
      ]
     },
     "execution_count": 146,
     "metadata": {},
     "output_type": "execute_result"
    },
    {
     "data": {
      "image/png": "[encoded data removed]",
      "text/plain": [
       "<Figure size 432x288 with 1 Axes>"
      ]
     },
     "metadata": {
      "needs_background": "light"
     },
     "output_type": "display_data"
    }
   ],
   "source": [
    "plt.plot(cnn_history.history['loss'], color='b', label=\"Training loss\")\n",
    "plt.legend(loc='best', shadow=True)"
   ]
  },
  {
   "cell_type": "code",
   "execution_count": 130,
   "id": "3070547a",
   "metadata": {},
   "outputs": [
    {
     "data": {
      "text/plain": [
       "<matplotlib.legend.Legend at 0x7f7c40330af0>"
      ]
     },
     "execution_count": 130,
     "metadata": {},
     "output_type": "execute_result"
    },
    {
     "data": {
      "image/png": "[encoded data removed]",
      "text/plain": [
       "<Figure size 432x288 with 1 Axes>"
      ]
     },
     "metadata": {
      "needs_background": "light"
     },
     "output_type": "display_data"
    }
   ],
   "source": [
    "plt.plot(history_lstm.history['loss'], color='b', label=\"Training loss\")\n",
    "plt.legend(loc='best', shadow=True)"
   ]
  },
  {
   "cell_type": "code",
   "execution_count": null,
   "id": "6aeada56",
   "metadata": {},
   "outputs": [],
   "source": [
    "### "
   ]
  },
  {
   "cell_type": "markdown",
   "id": "cdbd9932",
   "metadata": {},
   "source": [
    "## Submission file"
   ]
  }
 ],
 "metadata": {
  "kernelspec": {
   "display_name": "Python 3 (ipykernel)",
   "language": "python",
   "name": "python3"
  },
  "language_info": {
   "codemirror_mode": {
    "name": "ipython",
    "version": 3
   },
   "file_extension": ".py",
   "mimetype": "text/x-python",
   "name": "python",
   "nbconvert_exporter": "python",
   "pygments_lexer": "ipython3",
   "version": "3.9.7"
  }
 },
 "nbformat": 4,
 "nbformat_minor": 5
}
